{
 "cells": [
  {
   "cell_type": "code",
   "execution_count": 20,
   "metadata": {},
   "outputs": [
    {
     "name": "stdout",
     "output_type": "stream",
     "text": [
      "Angelique Yoanita\n",
      "I0322014\n",
      "A\n"
     ]
    }
   ],
   "source": [
    "print(input(\"Nama: \"))\n",
    "print(input(\"NIM: \"))\n",
    "print(input(\"Kelas: \"))"
   ]
  },
  {
   "attachments": {},
   "cell_type": "markdown",
   "metadata": {},
   "source": [
    "## 1."
   ]
  },
  {
   "attachments": {},
   "cell_type": "markdown",
   "metadata": {},
   "source": [
    "buatlah program sederhana untuk menghitung umur pengguna dengan ketentuan sebagai berikut :\n",
    "* Program meminta pengguna memasukan tanggal, bulan, dan tahun lahir\n",
    "* Program menghitung umur pengguna hingga tanggal 1 januari 2023\n",
    "* Program menampilkan umur dari pengguna"
   ]
  },
  {
   "cell_type": "code",
   "execution_count": 19,
   "metadata": {},
   "outputs": [
    {
     "name": "stdout",
     "output_type": "stream",
     "text": [
      "umur pengguna adalah  18 tahun\n"
     ]
    }
   ],
   "source": [
    "tanggal = int(input(\"silahkan masukakan tanggal \"))\n",
    "bulan = int(input(\"silahkan masukkan bulan \"))\n",
    "tahun = int(input(\"silahkan masukkan tahun \"))\n",
    "\n",
    "from datetime import date \n",
    "tanggal_lahir = date(tahun, bulan, tanggal)\n",
    "tanggal_maksimal = date(2023,1,1)\n",
    "\n",
    "umur_pengguna = (tanggal_maksimal - tanggal_lahir).days\n",
    "print(\"umur pengguna adalah \", umur_pengguna//365,\"tahun\")\n"
   ]
  },
  {
   "attachments": {},
   "cell_type": "markdown",
   "metadata": {},
   "source": [
    "## 2."
   ]
  },
  {
   "attachments": {},
   "cell_type": "markdown",
   "metadata": {},
   "source": [
    "Pada 2015, wabah flu burung menyerang Indonesia dan beberapa peternak ayam mengalami kerugian karena banyaknya ayam yang mati. Setiap bulan, jumlah ayamnya berkurang menjadi setengah. Setelah dua bulan, jumlah ayam yang tersisa adalah 200 ekor. Hitunglah jumlah ayam sebelumnya yang dimiliki peternak tersebut! (gunakan rumus deret geometri)\n",
    "\n",
    "> *note: SOAL DIATAS DIKERJAKAN SESUAI DENGAN RUMUS BAKU*"
   ]
  },
  {
   "cell_type": "code",
   "execution_count": 2,
   "metadata": {},
   "outputs": [
    {
     "name": "stdout",
     "output_type": "stream",
     "text": [
      "Jumlah ayam sehat =  200\n",
      "Jumlah ayam tahun 2015  =  800.0\n"
     ]
    }
   ],
   "source": [
    "ayam_sehat = 200\n",
    "# Rumus dasar gerometri\n",
    "# Un = a * r**(n-1)\n",
    "# a = Un/(r**(n-1))\n",
    "a = 200/((1/2)**2)\n",
    "print('Jumlah ayam sehat = ',ayam_sehat)\n",
    "\n",
    "print('Jumlah ayam tahun 2015  = ',a)"
   ]
  },
  {
   "attachments": {},
   "cell_type": "markdown",
   "metadata": {},
   "source": [
    "## 3. "
   ]
  },
  {
   "attachments": {},
   "cell_type": "markdown",
   "metadata": {},
   "source": [
    "* **A** Hitunglah luas Prisma Segitiga dengan ketentuan sebagai berikut:\n",
    "    * Alas dan tutup prisma merupakan segitiga\n",
    "    * Terdapat 3 persegi panjang yang menyinggung alas dan tutup prisma\n",
    "    * Sisi persegi panjang yang menyinggung segitiga adalah sisi lebar\n",
    "```python\n",
    "    dictionary_figure = {\"Persegi\":{\"Sisi\":22},\n",
    "                        \"Persegi Panjang\":{\"Panjang\":10,\"Lebar\":5},\n",
    "                        \"Segitiga Sama Sisi\":{\"Sisi\":6,\"Tinggi\":3**(1/2) * 3},\n",
    "                        \"Lingkaran\":{\"Diameter\":7}}\n",
    "```\n",
    "* **B** Hitunglah luas Tabung dengan ketentuan sebagai berikut:\n",
    "    * Alas dan tutup tabung merupakan lingkaran\n",
    "    * Terdapat 1 persegi yang menyinggung alas dan tutup tabung\n",
    "    * Persegi yang ada mengelilingi lingkaran hingga sisi dari persegi saling bertemu\n",
    "\n",
    "> *note: Pada soal ini kalian hanya boleh menggunakan key-value pair dan index pada list. Tidak diperbolehkan menulis secara langsung dimensi dari figure*"
   ]
  },
  {
   "cell_type": "code",
   "execution_count": 16,
   "metadata": {},
   "outputs": [
    {
     "name": "stdout",
     "output_type": "stream",
     "text": [
      "Maka luas permukaan prisma adalah  171.65063509461098\n",
      "Maka luas permukaan tabung adalah  560.0504000000001\n"
     ]
    }
   ],
   "source": [
    "dictionary_figure = {\"Persegi\":{\"Sisi\":22},\n",
    "                    \"Persegi Panjang\":{\"Panjang\":10,\"Lebar\":5},\n",
    "                    \"Segitiga Sama Sisi\":{\"Sisi\":6,\"Tinggi\":3**(1/2) * 3},\n",
    "                    \"Lingkaran\":{\"Diameter\":7}}\n",
    "\n",
    "#A\n",
    "panjang = dictionary_figure[\"Persegi Panjang\"][\"Panjang\"]\n",
    "lebar = dictionary_figure[\"Persegi Panjang\"][\"Lebar\"]\n",
    "s = lebar\n",
    "luas_segitiga = (1/4*s**2)*(3**(1/2))\n",
    "luas_persegi_panjang = panjang*lebar\n",
    "\n",
    "luas_permukaan_prisma = 2*luas_segitiga + 3*luas_persegi_panjang\n",
    "print('Maka luas permukaan prisma adalah ',luas_permukaan_prisma)\n",
    "\n",
    "#B\n",
    "D = dictionary_figure[\"Lingkaran\"][\"Diameter\"]\n",
    "keliling_lingkaran = 3.14 * D\n",
    "sisi = keliling_lingkaran\n",
    "luas_permukaan_tabung = 2*3.14*(((1/2)*D)**2) + sisi*sisi\n",
    "\n",
    "print('Maka luas permukaan tabung adalah ',luas_permukaan_tabung)\n"
   ]
  }
 ],
 "metadata": {
  "kernelspec": {
   "display_name": "Python 3",
   "language": "python",
   "name": "python3"
  },
  "language_info": {
   "codemirror_mode": {
    "name": "ipython",
    "version": 3
   },
   "file_extension": ".py",
   "mimetype": "text/x-python",
   "name": "python",
   "nbconvert_exporter": "python",
   "pygments_lexer": "ipython3",
   "version": "3.10.8"
  },
  "orig_nbformat": 4,
  "vscode": {
   "interpreter": {
    "hash": "5addf786bcd861d1ce5006f23111f8cbb206731e5b61b0a5632ba9e0252558a8"
   }
  }
 },
 "nbformat": 4,
 "nbformat_minor": 2
}
