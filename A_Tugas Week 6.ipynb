{
 "cells": [
  {
   "attachments": {},
   "cell_type": "markdown",
   "metadata": {},
   "source": [
    "1. Tulis program dengan fungsi untuk menentukan angka yang paling besar dari tiga angka yang diberikan!\n",
    "     ###### Note: Angka ditentukan sendiri oleh praktikan"
   ]
  },
  {
   "cell_type": "code",
   "execution_count": 4,
   "metadata": {},
   "outputs": [
    {
     "name": "stdout",
     "output_type": "stream",
     "text": [
      "Angka yang diinputkan adalah: 30.0 40.0 91.0\n",
      "Angka terbesar adalah: 91.0\n"
     ]
    }
   ],
   "source": [
    "# Kerjakan Nomor 1 di bawah ini\n",
    "def angka_terbesar(a, b, c):\n",
    "    if a >= b and a >= c:\n",
    "        return a\n",
    "    elif b >= a and b >= c:\n",
    "        return b\n",
    "    else:\n",
    "        return c\n",
    "\n",
    "a = float(input(\"Masukkan angka pertama: \"))\n",
    "b = float(input(\"Masukkan angka kedua: \"))\n",
    "c = float(input(\"Masukkan angka ketiga: \"))\n",
    "\n",
    "print(\"Angka yang telah anda input adalah:\", a, b, c)\n",
    "print(\"Angka terbesar dari ketiga angka tersebut adalah:\", angka_terbesar(a, b, c))\n"
   ]
  },
  {
   "attachments": {},
   "cell_type": "markdown",
   "metadata": {},
   "source": [
    "2. Tulis fungsi Python yang mengambil list awal dan menampilkan list baru dengan angka unik (tidak ada angka yang sama) dari list yang pertama."
   ]
  },
  {
   "cell_type": "code",
   "execution_count": 9,
   "metadata": {},
   "outputs": [],
   "source": [
    "list_awal = [1,1,1,1,2,2,3,3,3,3,4,5,6,6,6,6,6,7,7,7,8,9,10]"
   ]
  },
  {
   "cell_type": "code",
   "execution_count": 10,
   "metadata": {},
   "outputs": [
    {
     "name": "stdout",
     "output_type": "stream",
     "text": [
      "List baru: [1, 2, 3, 4, 5, 6, 7, 8, 9, 10]\n"
     ]
    }
   ],
   "source": [
    "# Kerjakan Nomor 2 di bawah ini\n",
    "list_awal = [1,1,1,1,2,2,3,3,3,3,4,5,6,6,6,6,6,7,7,7,8,9,10]\n",
    "def angka_unik(list_awal):\n",
    "    list_baru = []\n",
    "    for angka in list_awal:\n",
    "        if angka not in list_baru:\n",
    "            list_baru.append(angka)\n",
    "    return list_baru\n",
    "\n",
    "print(\"List baru:\", list_baru)"
   ]
  },
  {
   "attachments": {},
   "cell_type": "markdown",
   "metadata": {},
   "source": [
    "3. Cari dan tampilkan bilangan genap yang ada pada list dibawah ini menggunakan fungsi built-in (wajib memakai fungsi lambda) dan tampilkan dalam format menurun (menggunakan perulangan)! "
   ]
  },
  {
   "cell_type": "code",
   "execution_count": 11,
   "metadata": {},
   "outputs": [],
   "source": [
    "list_angka = [88,56,42,12,5,168,234,211,100,98,87,34,42,65]\n"
   ]
  },
  {
   "cell_type": "code",
   "execution_count": 13,
   "metadata": {},
   "outputs": [
    {
     "name": "stdout",
     "output_type": "stream",
     "text": [
      "bilangan genap : \n",
      "88\n",
      "56\n",
      "42\n",
      "12\n",
      "168\n",
      "234\n",
      "100\n",
      "98\n",
      "34\n",
      "42\n"
     ]
    }
   ],
   "source": [
    "#Kerjakan nomor 3 di kolom ini\n",
    "list_angka = [88,56,42,12,5,168,234,211,100,98,87,34,42,65]\n",
    "\n",
    "genap = lambda bilangan : bilangan % 2 == 0\n",
    "\n",
    "print(\"bilangan genap : \")\n",
    "for bilangan in list_angka :\n",
    "    genap(bilangan)\n",
    "    if genap(bilangan) == True :\n",
    "        print(bilangan)\n"
   ]
  }
 ],
 "metadata": {
  "kernelspec": {
   "display_name": "Python 3",
   "language": "python",
   "name": "python3"
  },
  "language_info": {
   "codemirror_mode": {
    "name": "ipython",
    "version": 3
   },
   "file_extension": ".py",
   "mimetype": "text/x-python",
   "name": "python",
   "nbconvert_exporter": "python",
   "pygments_lexer": "ipython3",
   "version": "3.10.8"
  },
  "orig_nbformat": 4,
  "vscode": {
   "interpreter": {
    "hash": "5addf786bcd861d1ce5006f23111f8cbb206731e5b61b0a5632ba9e0252558a8"
   }
  }
 },
 "nbformat": 4,
 "nbformat_minor": 2
}
