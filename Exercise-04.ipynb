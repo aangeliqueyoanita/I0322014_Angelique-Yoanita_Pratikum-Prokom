{
 "cells": [
  {
   "cell_type": "code",
   "execution_count": 1,
   "metadata": {},
   "outputs": [
    {
     "name": "stdout",
     "output_type": "stream",
     "text": [
      "Angelique Yoanita\n",
      "I0322014\n",
      "A\n"
     ]
    }
   ],
   "source": [
    "print(input(\"Nama: \"))\n",
    "print(input(\"NIM: \"))\n",
    "print(input(\"Kelas: \"))"
   ]
  },
  {
   "attachments": {},
   "cell_type": "markdown",
   "metadata": {},
   "source": [
    "Buatlah program persyaratan pembuatan SIM dengan input yaitu nama user, umur user, dan nilai tes user.<br>\n",
    "Dengan ketentuan mendapat SIM sebagai berikut:\n",
    "* Umur dari user harus lebih dari sama dengan 17 tahun\n",
    "* Nilai tes lebih dari sama dengan 70\n",
    "\n",
    "<br>Output yang dihasilkan dari program adalah:\n",
    "<br>\"Selamat Anda Berhak Mendapatkan SIM Anda\"\n",
    "<br>\"Maaf, Anda tidak berhak mendapatkan SIM anda\"\n",
    "> *note: Kerjakan soal ini dengan percabangan*"
   ]
  },
  {
   "cell_type": "code",
   "execution_count": 18,
   "metadata": {},
   "outputs": [
    {
     "name": "stdout",
     "output_type": "stream",
     "text": [
      "Selamat Anda Berhak Mendapatkan SIM Anda\n"
     ]
    }
   ],
   "source": [
    "# Kerjakan soal no 1 di sini\n",
    "nama                        = input(\"Masukan Nama Anda  \")\n",
    "usia                        = int(input(\"Masukan Usia Anda  \"))\n",
    "hasil_tes_ujian_berkendara  = int(input(\"Berikut hasil tes berkendara anda  \"))\n",
    "\n",
    "\n",
    "\n",
    "if hasil_tes_ujian_berkendara >= 70 : \n",
    "    if usia >= 17 :\n",
    "        print(\"Selamat Anda Berhak Mendapatkan SIM Anda\")\n",
    "else :\n",
    "    print(\"Maaf, Anda tidak berhak mendapatkan SIM Anda\")\n"
   ]
  },
  {
   "attachments": {},
   "cell_type": "markdown",
   "metadata": {},
   "source": [
    "## 2."
   ]
  },
  {
   "attachments": {},
   "cell_type": "markdown",
   "metadata": {},
   "source": [
    "Buatlah program untuk mencari bilangan terbesar yang diinput dari user.<br>\n",
    "<br>Dengan ketentuan sebagai berikut:\n",
    "* Program nenerima 3 input bilangan dari user\n",
    "* Program akan menentukan mana bilangan terbesar\n",
    "* Output yang akan dihasilkan misalnya adalah \"Dari bil_1, bil_2, dan bil_3, bilangan terbesarnya adalah bilangan bil_2\"\n",
    "> *note: Kerjakan soal ini dengan percabangan*"
   ]
  },
  {
   "cell_type": "code",
   "execution_count": 39,
   "metadata": {},
   "outputs": [
    {
     "name": "stdout",
     "output_type": "stream",
     "text": [
      "Dari bilangan 3, 2, 1, Bilangan terbesarnya adalah 3\n"
     ]
    }
   ],
   "source": [
    "# Kerjakan soal nomor 2 disini\n",
    "\n",
    "bilangan_1 = int(input(\"Masukkan Bilangan Pertama \"))\n",
    "bilangan_2 = int(input(\"Masukkan Bilangan Kedua   \"))\n",
    "bilangan_3 = int(input(\"Masukkan Bilangan Ketiga  \"))\n",
    "\n",
    "if bilangan_1 > bilangan_2:\n",
    "    if bilangan_1 > bilangan_3:\n",
    "        print(f\"Dari bilangan {bilangan_1}, {bilangan_2}, {bilangan_3}, Bilangan terbesarnya adalah {bilangan_1}\")\n",
    "    else :print(f\"Dari bilangan {bilangan_1}, {bilangan_2}, {bilangan_3}, Bilangan terbesarnya adalah {bilangan_3}\")\n",
    "elif bilangan_2 > bilangan_1:\n",
    "    if bilangan_2 > bilangan_3:\n",
    "        print(f\"Dari bilangan {bilangan_1}, {bilangan_2}, {bilangan_3}, Bilangan terbesarnya adalah {bilangan_2}\")\n",
    "    else :print(f\"Dari bilangan {bilangan_1}, {bilangan_2}, {bilangan_3}, Bilangan terbesarnya adalah {bilangan_3}\")\n",
    "else:\n",
    "    print(f\"Dari bilangan {bilangan_1}, {bilangan_2}, {bilangan_3}, Bilangan terbesarnya adalah {bilangan_3}\")\n"
   ]
  }
 ],
 "metadata": {
  "kernelspec": {
   "display_name": "Python 3",
   "language": "python",
   "name": "python3"
  },
  "language_info": {
   "codemirror_mode": {
    "name": "ipython",
    "version": 3
   },
   "file_extension": ".py",
   "mimetype": "text/x-python",
   "name": "python",
   "nbconvert_exporter": "python",
   "pygments_lexer": "ipython3",
   "version": "3.10.8"
  },
  "orig_nbformat": 4
 },
 "nbformat": 4,
 "nbformat_minor": 2
}
