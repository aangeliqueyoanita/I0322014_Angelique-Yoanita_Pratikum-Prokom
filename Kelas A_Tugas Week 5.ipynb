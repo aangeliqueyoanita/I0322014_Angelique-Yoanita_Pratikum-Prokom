{
 "cells": [
  {
   "attachments": {},
   "cell_type": "markdown",
   "metadata": {},
   "source": [
    "1. Buatlah program untuk menampilkan total penjumlahan bilangan ganjil dan total penjumlahan bilangan genap dengan input dari user berupa range (batas atas dan batas bawah)!"
   ]
  },
  {
   "cell_type": "code",
   "execution_count": 2,
   "metadata": {},
   "outputs": [
    {
     "name": "stdout",
     "output_type": "stream",
     "text": [
      "Total penjumlahan bilangan genap dari 12 sampai 23 adalah 102\n",
      "Total penjumlahan bilangan ganjil dari 12 sampai 23 adalah 108\n"
     ]
    }
   ],
   "source": [
    "# Kerjakan nomor 1 di sini\n",
    "x = int(input(\"Masukkan batas bawah: \"))\n",
    "y = int(input(\"Masukkan batas atas: \"))\n",
    "\n",
    "total_bilangan_ganjil = 0\n",
    "total_bilangan_genap = 0\n",
    "\n",
    "for i in range(x, y+1):\n",
    "    if i % 2 == 0:\n",
    "        total_bilangan_genap += i\n",
    "    else:\n",
    "        total_bilangan_ganjil += i\n",
    "\n",
    "print(\"Total penjumlahan bilangan genap dari\", x, \"sampai\", y, \"adalah\", total_bilangan_genap)\n",
    "print(\"Total penjumlahan bilangan ganjil dari\", x, \"sampai\", y, \"adalah\", total_bilangan_ganjil)\n"
   ]
  },
  {
   "attachments": {},
   "cell_type": "markdown",
   "metadata": {},
   "source": [
    "2. Buatlah sebuah list yang berisi daftar makanan khas daerah (minimal 10 makanan termasuk makanan khas Solo). Kemudian buat program pencarian menggunakan pengulangan. Apabila nama makanan yang user inputkan sudah sesuai dengan isi list maka program akan berhenti dan menampilkan output \"(makanan yang diinput user) adalah makanan khas daerah\"."
   ]
  },
  {
   "cell_type": "code",
   "execution_count": 8,
   "metadata": {},
   "outputs": [
    {
     "name": "stdout",
     "output_type": "stream",
     "text": [
      "Sate Ayam adalah makanan khas daerah.\n"
     ]
    }
   ],
   "source": [
    "# Kerjakan nomor 2 di sini\n",
    "daftar_makanan = [\"Sate Ayam\", \"Pecel\", \"Bakso\", \"Rendang\", \"Soto Ayam\", \"Pempek\", \"Nasi Goreng\", \"Lumpia Semarang\", \"Soto Solo\", \"Sosis Solo\"]\n",
    "\n",
    "daftar_makanan = [\"Sate Ayam\", \"Pecel\", \"Bakso\", \"Rendang\", \"Soto Ayam\", \"Pempek\", \"Nasi Goreng\", \"Lumpia Semarang\", \"Soto Solo\", \"Sosis Solo\"]\n",
    "\n",
    "makanan_yang_dipilih = input(\"Masukkan makanan yang diinginkan: \")\n",
    "\n",
    "for i in daftar_makanan:\n",
    "    if i == makanan_yang_dipilih:\n",
    "        break \n",
    "    print(i)\n",
    "\n",
    "if i == makanan_yang_dipilih:\n",
    "        print(makanan_yang_dipilih, \"adalah makanan khas daerah.\")\n",
    "else:\n",
    "    print(makanan_yang_dipilih, \"bukan makanan khas daerah.\")\n"
   ]
  },
  {
   "attachments": {},
   "cell_type": "markdown",
   "metadata": {},
   "source": [
    "3. Buatlah program untuk menghitung rata-rata 7 bilangan dimana bilangan-bilangan tersebut didapat melalui input user!"
   ]
  },
  {
   "cell_type": "code",
   "execution_count": 11,
   "metadata": {},
   "outputs": [
    {
     "name": "stdout",
     "output_type": "stream",
     "text": [
      "[1.0, 2.0, 3.0, 4.0, 5.0, 6.0, 7.0]\n",
      "Rata-rata dari 7 bilangan yang dimasukkan adalah 4.0\n"
     ]
    }
   ],
   "source": [
    "# Kerjakan nomor 3 di sini\n",
    "list_bilangan = []\n",
    "for i in range(7):\n",
    "    bilangan = float(input(\"Masukkan bilangan ke-{}: \".format(i+1)))\n",
    "    list_bilangan.append(bilangan)\n",
    "    rata_rata = sum(list_bilangan) / len(list_bilangan)\n",
    "print(list_bilangan)   \n",
    "print(\"Rata-rata dari 7 bilangan yang dimasukkan adalah\", rata_rata)\n"
   ]
  }
 ],
 "metadata": {
  "kernelspec": {
   "display_name": "Python 3",
   "language": "python",
   "name": "python3"
  },
  "language_info": {
   "codemirror_mode": {
    "name": "ipython",
    "version": 3
   },
   "file_extension": ".py",
   "mimetype": "text/x-python",
   "name": "python",
   "nbconvert_exporter": "python",
   "pygments_lexer": "ipython3",
   "version": "3.10.8"
  },
  "orig_nbformat": 4
 },
 "nbformat": 4,
 "nbformat_minor": 2
}
